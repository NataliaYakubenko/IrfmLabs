{
 "cells": [
  {
   "cell_type": "markdown",
   "metadata": {},
   "source": [
    "Init"
   ]
  },
  {
   "cell_type": "code",
   "execution_count": 1,
   "metadata": {},
   "outputs": [],
   "source": [
    "import matplotlib.pyplot as plt\n",
    "import numpy as np\n",
    "import pandas as pd\n",
    "import scipy.stats as stats\n",
    "import sqlite3\n",
    "\n",
    "\n",
    "def python2sqlite(x):\n",
    "    if x.startswith(\"int\"):\n",
    "        return \"integer\"\n",
    "    if x.startswith(\"float\"):\n",
    "        return \"real\"\n",
    "    return \"text\"\n",
    "\n",
    "\n",
    "def records2columns(rows):\n",
    "    if not rows:\n",
    "        return []\n",
    "    return [list(map(lambda x: x[i], rows)) for i in range(len(rows[0]))]\n",
    "\n",
    "\n",
    "def get_size_table(db):\n",
    "    db_cursor = db.cursor()\n",
    "    db_cursor.execute(f\"select count(*) from survey\")\n",
    "    return db_cursor.fetchone()[0]"
   ]
  },
  {
   "cell_type": "markdown",
   "metadata": {},
   "source": [
    "Task A"
   ]
  },
  {
   "cell_type": "code",
   "execution_count": 2,
   "metadata": {},
   "outputs": [
    {
     "ename": "OperationalError",
     "evalue": "table survey already exists",
     "output_type": "error",
     "traceback": [
      "\u001b[1;31m---------------------------------------------------------------------------\u001b[0m",
      "\u001b[1;31mOperationalError\u001b[0m                          Traceback (most recent call last)",
      "\u001b[1;32m<ipython-input-2-8fb901d1ffe4>\u001b[0m in \u001b[0;36m<module>\u001b[1;34m\u001b[0m\n\u001b[0;32m     18\u001b[0m )\n\u001b[0;32m     19\u001b[0m \u001b[1;33m\u001b[0m\u001b[0m\n\u001b[1;32m---> 20\u001b[1;33m \u001b[0mdb_cursor\u001b[0m\u001b[1;33m.\u001b[0m\u001b[0mexecute\u001b[0m\u001b[1;33m(\u001b[0m\u001b[1;34mf\"create table survey ({body})\"\u001b[0m\u001b[1;33m)\u001b[0m\u001b[1;33m\u001b[0m\u001b[0m\n\u001b[0m\u001b[0;32m     21\u001b[0m \u001b[1;33m\u001b[0m\u001b[0m\n\u001b[0;32m     22\u001b[0m \u001b[0mdb_connection\u001b[0m\u001b[1;33m.\u001b[0m\u001b[0mcommit\u001b[0m\u001b[1;33m(\u001b[0m\u001b[1;33m)\u001b[0m\u001b[1;33m\u001b[0m\u001b[0m\n",
      "\u001b[1;31mOperationalError\u001b[0m: table survey already exists"
     ]
    }
   ],
   "source": [
    "columns = [\n",
    "    \"EmploymentField\", \n",
    "    \"EmploymentStatus\", \n",
    "    \"Gender\", \n",
    "    \"JobPref\", \n",
    "    \"JobWherePref\", \n",
    "    \"MaritalStatus\", \n",
    "    \"Income\"\n",
    "]\n",
    "\n",
    "data = pd.read_csv(\"survey.csv\", usecols=columns)\n",
    "\n",
    "db_connection = sqlite3.connect(\"survey.db\")\n",
    "db_cursor = db_connection.cursor()\n",
    "\n",
    "body = \"Id integer primary key autoincrement,\" + \", \".join(\n",
    "    map(\" \".join, zip(data.columns, data.dtypes.apply(lambda x: python2sqlite(x.name))))\n",
    ")\n",
    "\n",
    "db_cursor.execute(f\"create table survey ({body})\")\n",
    "\n",
    "db_connection.commit()"
   ]
  },
  {
   "cell_type": "markdown",
   "metadata": {},
   "source": [
    "Task B"
   ]
  },
  {
   "cell_type": "code",
   "execution_count": null,
   "metadata": {},
   "outputs": [],
   "source": [
    "db_cursor.executemany(\n",
    "    f\"insert into survey ({','.join(data.columns)}) values (?, ?, ?, ?, ?, ?, ?)\",\n",
    "    data.values\n",
    ")\n",
    "\n",
    "db_connection.commit()\n",
    "\n",
    "print(\"size =\", get_size_table(db_connection))"
   ]
  },
  {
   "cell_type": "markdown",
   "metadata": {},
   "source": [
    "Task C"
   ]
  },
  {
   "cell_type": "code",
   "execution_count": null,
   "metadata": {},
   "outputs": [],
   "source": [
    "db_cursor.execute(\"\"\"\n",
    "    delete from survey\n",
    "    where EmploymentField is null\n",
    "        or EmploymentStatus is null\n",
    "        or Gender is null\n",
    "        or Gender not in ('female', 'male')\n",
    "        or JobPref is null\n",
    "        or JobWherePref is null\n",
    "        or MaritalStatus is null\n",
    "        or Income is null\n",
    "        or Income < 0\n",
    "\"\"\")\n",
    "\n",
    "db_connection.commit()\n",
    "\n",
    "print(\"size =\", get_size_table(db_connection))"
   ]
  },
  {
   "cell_type": "markdown",
   "metadata": {},
   "source": [
    "Task D"
   ]
  },
  {
   "cell_type": "code",
   "execution_count": null,
   "metadata": {},
   "outputs": [],
   "source": [
    "plt.figure(figsize=(12, 8))\n",
    "axs = [\n",
    "    plt.subplot2grid((5, 5), (0, 0), colspan=2, rowspan=2),\n",
    "    plt.subplot2grid((5, 5), (0, 3), colspan=2, rowspan=2),\n",
    "    plt.subplot2grid((5, 5), (3, 2), colspan=3, rowspan=2)\n",
    "]\n",
    "\n",
    "for i, col in enumerate((\"JobPref\", \"Gender\", \"EmploymentField\")):\n",
    "    db_cursor.execute(f\"\"\"\n",
    "        select {col}, count(*) \n",
    "        from survey \n",
    "        group by {col}\n",
    "    \"\"\")\n",
    "    \n",
    "    axs[i].set_title(col)\n",
    "    axs[i].tick_params(axis=\"x\", labelrotation=90)\n",
    "    axs[i].bar(*records2columns(db_cursor.fetchall()))"
   ]
  },
  {
   "cell_type": "markdown",
   "metadata": {},
   "source": [
    "Task E"
   ]
  },
  {
   "cell_type": "code",
   "execution_count": null,
   "metadata": {},
   "outputs": [],
   "source": [
    "db_cursor.execute(\"\"\"\n",
    "    delete from survey \n",
    "    where exists (\n",
    "        select *\n",
    "        from survey \n",
    "        group by JobPref, Gender\n",
    "            having 50 * count(*) < (select count(*) from survey)\n",
    "    )\n",
    "\"\"\")\n",
    "\n",
    "db_connection.commit()\n",
    "\n",
    "print(\"size =\", get_size_table(db_connection))"
   ]
  },
  {
   "cell_type": "markdown",
   "metadata": {},
   "source": [
    "Task F"
   ]
  },
  {
   "cell_type": "code",
   "execution_count": null,
   "metadata": {},
   "outputs": [],
   "source": [
    "db_cursor.execute(\"\"\"\n",
    "    select MaritalStatus, avg(Income) \n",
    "    from survey \n",
    "    group by MaritalStatus\n",
    "\"\"\")\n",
    "\n",
    "plt.bar(*records2columns(db_cursor.fetchall()))\n",
    "plt.tick_params(axis=\"x\", labelrotation=90)"
   ]
  },
  {
   "cell_type": "markdown",
   "metadata": {},
   "source": [
    "Task G"
   ]
  },
  {
   "cell_type": "code",
   "execution_count": null,
   "metadata": {},
   "outputs": [],
   "source": [
    "# Cramer's V\n",
    "# https://en.wikipedia.org/wiki/Cramér%27s_V\n",
    "\n",
    "db_cursor.execute(\"\"\"\n",
    "    select MaritalStatus, JobWherePref\n",
    "    from survey\n",
    "\"\"\")\n",
    "\n",
    "ms, jwp = map(np.array, records2columns(db_cursor.fetchall()))\n",
    "confusion_matrix = pd.crosstab(ms, jwp)\n",
    "\n",
    "chi2 = stats.chi2_contingency(confusion_matrix)[0]\n",
    "n = confusion_matrix.sum().sum()\n",
    "phi2 = chi2 / n\n",
    "r, k = confusion_matrix.shape\n",
    "phi2corr = max(0, phi2 - ((k - 1) * (r - 1)) / (n - 1))    \n",
    "rcorr = r - ((r - 1)**2) / (n - 1)\n",
    "kcorr = k - ((k - 1)**2) / (n - 1)\n",
    "res = np.sqrt(phi2corr / min(kcorr - 1, rcorr - 1))\n",
    "\n",
    "print(\"R =\", res)"
   ]
  },
  {
   "cell_type": "markdown",
   "metadata": {},
   "source": [
    "Finish"
   ]
  },
  {
   "cell_type": "code",
   "execution_count": 3,
   "metadata": {},
   "outputs": [],
   "source": [
    "db_connection.close()"
   ]
  }
 ],
 "metadata": {
  "kernelspec": {
   "display_name": "Python 3",
   "language": "python",
   "name": "python3"
  },
  "language_info": {
   "codemirror_mode": {
    "name": "ipython",
    "version": 3
   },
   "file_extension": ".py",
   "mimetype": "text/x-python",
   "name": "python",
   "nbconvert_exporter": "python",
   "pygments_lexer": "ipython3",
   "version": "3.6.5"
  }
 },
 "nbformat": 4,
 "nbformat_minor": 2
}
